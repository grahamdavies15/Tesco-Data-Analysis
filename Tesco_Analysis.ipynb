{
 "cells": [
  {
   "cell_type": "markdown",
   "source": [
    "# Applied Data Science\n",
    "## Tesco Dataset Analysis - Graham Davies\n",
    "\n",
    "\n"
   ],
   "metadata": {
    "collapsed": false
   },
   "id": "4fc1083050e7f59a"
  },
  {
   "cell_type": "markdown",
   "source": [
    "### Task 1: Describe the Dataset\n",
    "Import"
   ],
   "metadata": {
    "collapsed": false
   },
   "id": "9f51c035ea4ad62e"
  },
  {
   "cell_type": "code",
   "execution_count": 23,
   "outputs": [],
   "source": [
    "import numpy as np\n",
    "import pandas as pd\n",
    "import os\n",
    "\n",
    "# Need to import all csvs and include the name \n",
    "\n",
    "csv_files = [file for file in os.listdir('csvs')]\n",
    "\n",
    "dfs = []\n",
    "\n",
    "for csv_file in csv_files:\n",
    "    if 'year' in csv_file and 'borough' in csv_file:  \n",
    "        # Read the CSV file into a DataFrame\n",
    "        df = pd.read_csv(os.path.join('csvs/',csv_file))\n",
    "        \n",
    "        # Extract the month and area\n",
    "        #month = csv_file.split('_')[0]  \n",
    "        \n",
    "        # Add a new column with the month\n",
    "        #df['Month'] = month\n",
    "        \n",
    "        # Append the DataFrame to the list\n",
    "        dfs.append(df)\n",
    "\n",
    "tesco_b = pd.concat(dfs, ignore_index=True)"
   ],
   "metadata": {
    "collapsed": false,
    "ExecuteTime": {
     "end_time": "2024-02-22T17:19:21.829579Z",
     "start_time": "2024-02-22T17:19:21.813958Z"
    }
   },
   "id": "810e8f63a5e563e2"
  },
  {
   "cell_type": "code",
   "execution_count": 24,
   "outputs": [
    {
     "data": {
      "text/plain": "<bound method NDFrame.head of       area_id      weight  weight_perc2.5  weight_perc25  weight_perc50  \\\n0   E09000001  323.174750            35.0          150.0          250.0   \n1   E09000002  421.304125            32.5          165.6          300.0   \n2   E09000003  407.170491            40.0          180.0          320.0   \n3   E09000004  359.544126            30.0          144.0          255.0   \n4   E09000005  434.324141            40.0          175.0          325.0   \n5   E09000006  319.336273            30.0          135.0          250.0   \n6   E09000007  348.420414            35.0          150.0          260.0   \n7   E09000008  353.636123            30.0          150.0          250.0   \n8   E09000009  358.569245            35.0          154.0          275.0   \n9   E09000010  416.062456            40.0          180.0          325.0   \n10  E09000011  403.189686            37.5          170.0          305.0   \n11  E09000012  405.993196            40.0          175.0          308.0   \n12  E09000013  368.873372            40.0          166.4          300.0   \n13  E09000014  401.729619            40.0          175.0          314.0   \n14  E09000015  427.891938            40.0          180.0          325.0   \n15  E09000016  319.155687            29.0          125.0          239.2   \n16  E09000017  374.737951            36.0          165.0          300.0   \n17  E09000018  336.922944            32.5          150.0          250.0   \n18  E09000019  357.452740            35.0          155.0          290.0   \n19  E09000020  372.608765            40.0          170.0          300.0   \n20  E09000021  297.379174            30.0          125.0          220.0   \n21  E09000022  397.096905            40.0          174.0          300.0   \n22  E09000023  399.181910            38.0          170.0          302.0   \n23  E09000024  336.747006            32.0          150.0          250.0   \n24  E09000025  450.349903            39.0          175.0          325.0   \n25  E09000026  407.369285            37.0          170.0          300.0   \n26  E09000027  321.808045            32.5          150.0          250.0   \n27  E09000028  387.681320            40.0          175.0          300.0   \n28  E09000029  295.330271            28.0          120.0          215.0   \n29  E09000030  390.047012            37.5          160.0          300.0   \n30  E09000031  414.805726            40.0          180.0          320.0   \n31  E09000032  350.286873            35.0          150.0          268.0   \n32  E09000033  380.470120            40.0          165.0          300.0   \n\n    weight_perc75  weight_perc97.5  weight_std  weight_ci95      volume  ...  \\\n0           400.0           1000.0  323.692596     1.001520   98.842963  ...   \n1           500.0           1500.0  597.994271     0.828993  122.341294  ...   \n2           500.0           1160.0  443.644324     0.171615  114.933771  ...   \n3           450.0           1000.0  476.576945     0.819748  106.446426  ...   \n4           500.0           1500.0  616.087316     0.354492  128.930369  ...   \n5           400.0           1000.0  347.979651     0.458224  101.105159  ...   \n6           450.0           1000.0  370.640809     0.373270  102.525979  ...   \n7           450.0           1000.0  425.267620     0.487412  107.461977  ...   \n8           454.0           1000.0  373.797449     0.271506  106.197369  ...   \n9           500.0           1500.0  456.120381     0.187516  122.353062  ...   \n10          500.0           1200.0  498.743168     0.323224  114.736225  ...   \n11          500.0           1160.0  486.498044     0.296792  111.593823  ...   \n12          485.0           1000.0  355.888762     0.223326  102.882176  ...   \n13          500.0           1100.0  430.122088     0.239607  111.394666  ...   \n14          500.0           1400.0  581.035689     0.307016  133.105977  ...   \n15          400.0           1000.0  390.140389     0.683918   99.909387  ...   \n16          500.0           1000.0  394.154178     0.310364  119.792570  ...   \n17          450.0           1000.0  359.841786     0.635360  105.201811  ...   \n18          450.0           1000.0  358.953932     0.273364  104.540991  ...   \n19          500.0           1000.0  359.153513     0.280077  100.566629  ...   \n20          400.0           1000.0  318.095793     0.996035   95.006632  ...   \n21          500.0           1100.0  432.868643     0.215760  103.518902  ...   \n22          500.0           1160.0  438.427842     0.233233  105.628372  ...   \n23          440.0           1000.0  360.640133     0.407096  103.753813  ...   \n24          500.0           1500.0  718.157462     0.386833  136.703561  ...   \n25          500.0           1200.0  556.091738     0.441890  119.013556  ...   \n26          405.0           1000.0  300.762891     0.516371   97.373183  ...   \n27          500.0           1000.0  393.486213     0.178711  107.157266  ...   \n28          400.0           1000.0  345.190175     0.891018   98.495864  ...   \n29          500.0           1000.0  506.511927     0.278470  112.608969  ...   \n30          500.0           1280.0  510.104074     0.216160  117.975457  ...   \n31          450.0           1000.0  378.044382     0.313651  103.653029  ...   \n32          500.0           1000.0  428.667556     0.327936  107.933971  ...   \n\n    man_day  population      male    female  age_0_17  age_18_64  age_65+  \\\n0    103883      6687.0    3697.0    2990.0    1018.0     4349.0   1320.0   \n1    397127    203101.0   99442.0  103659.0   60281.0   123180.0  19640.0   \n2   4131210    378778.0  186357.0  192421.0   88754.0   237036.0  52988.0   \n3    380177    242387.0  116814.0  125573.0   56028.0   146237.0  40122.0   \n4   2541113    323443.0  163939.0  159504.0   75033.0   211885.0  36525.0   \n5    734232    325303.0  156274.0  169029.0   72176.0   196323.0  56804.0   \n6    917661    243837.0  121808.0  122029.0   46242.0   169330.0  28265.0   \n7    824237    380070.0  184305.0  195765.0   93166.0   237511.0  49393.0   \n8   1824981    344285.0  172747.0  171538.0   81217.0   222669.0  40399.0   \n9   3493012    328738.0  159756.0  168982.0   83274.0   203384.0  42080.0   \n10  1795750    274542.0  137569.0  136973.0   66010.0   179854.0  28678.0   \n11  1999259    268626.0  133429.0  135197.0   61120.0   188145.0  19361.0   \n12  1879110    182183.0   89454.0   92729.0   34398.0   129350.0  18435.0   \n13  2108494    268251.0  134472.0  133779.0   60298.0   182741.0  25212.0   \n14  2651032    246818.0  122713.0  124105.0   57186.0   152725.0  36907.0   \n15   421583    249375.0  119743.0  129632.0   54279.0   149202.0  45894.0   \n16  1168640    296056.0  147929.0  148127.0   70644.0   186478.0  38934.0   \n17   365032    266412.0  134797.0  131615.0   62349.0   173737.0  30326.0   \n18  1535553    227507.0  113683.0  113824.0   40109.0   167416.0  19982.0   \n19  1279530    158589.0   78878.0   79711.0   28328.0   107647.0  22614.0   \n20   145265    171609.0   84301.0   87308.0   37534.0   111139.0  22936.0   \n21  2827972    320736.0  160869.0  159867.0   62418.0   233025.0  25293.0   \n22  2612931    294999.0  144943.0  150056.0   67332.0   200119.0  27548.0   \n23   923444    205965.0  101313.0  104652.0   46260.0   134778.0  24927.0   \n24  2839005    336254.0  176602.0  159652.0   83982.0   228855.0  23417.0   \n25  1112166    297928.0  148700.0  149228.0   75418.0   186229.0  36281.0   \n26   357840    194124.0   94288.0   99836.0   44364.0   120918.0  28842.0   \n27  3560276    308434.0  153470.0  154964.0   62902.0   221000.0  24532.0   \n28   234609    199870.0   97427.0  102443.0   46142.0   123600.0  30128.0   \n29  2707571    293828.0  152762.0  141066.0   64797.0   211354.0  17677.0   \n30  3441950    270671.0  135651.0  135020.0   65030.0   177768.0  27873.0   \n31  1377019    319477.0  154118.0  165359.0   61036.0   229044.0  29397.0   \n32  1485336    238047.0  123356.0  114691.0   42610.0   167188.0  28249.0   \n\n      avg_age  area_sq_km  people_per_sq_km  \n0   43.910124        2.90       2305.862069  \n1   33.017321       36.09       5627.625381  \n2   37.195582       86.76       4365.813739  \n3   38.880749       60.58       4001.105976  \n4   35.766416       43.28       7473.267098  \n5   39.853429      150.14       2166.664447  \n6   35.934276       21.87      11149.382716  \n7   36.896435       86.57       4390.319972  \n8   36.143460       55.55       6197.749775  \n9   36.190751       80.84       4066.526472  \n10  34.858641       47.39       5793.247521  \n11  32.973528       19.08      14078.930818  \n12  35.687814       16.40      11108.719512  \n13  34.982777       29.60       9062.533784  \n14  38.037607       50.42       4895.239984  \n15  40.051188      112.44       2217.849520  \n16  36.372359      115.71       2558.603405  \n17  35.741397       55.95       4761.608579  \n18  34.484174       14.90      15268.926174  \n19  38.888473       12.11      13095.706028  \n20  37.072461       37.26       4605.716586  \n21  34.320120       26.82      11958.836689  \n22  34.885311       35.17       8387.802104  \n23  36.593164       37.64       5471.971307  \n24  32.038272       36.21       9286.219276  \n25  35.736752       56.38       5284.285208  \n26  38.726402       57.40       3381.951220  \n27  34.200656       28.86      10687.248787  \n28  38.449162       43.80       4563.242009  \n29  31.514726       19.75      14877.367089  \n30  34.990623       38.86       6965.285641  \n31  34.811996       34.25       9327.795620  \n32  37.157952       21.50      11071.953488  \n\n[33 rows x 202 columns]>"
     },
     "execution_count": 24,
     "metadata": {},
     "output_type": "execute_result"
    }
   ],
   "source": [],
   "metadata": {
    "collapsed": false,
    "ExecuteTime": {
     "end_time": "2024-02-22T17:19:26.505377Z",
     "start_time": "2024-02-22T17:19:26.501421Z"
    }
   },
   "id": "33652757483cc5f4"
  },
  {
   "cell_type": "markdown",
   "source": [
    "### Variable descriptions\n",
    "\n",
    "area_id: identifier of the area\n",
    "\n",
    "weight: Weight of the average food product, in grams\n",
    "\n",
    "volume: Volume of the average drink product, in liters\n",
    "\n",
    "energy: Nutritional energy of the average product, in kcals\n",
    "\n",
    "energy_density: Concentration of calories in the area's average product, in kcals/gram\n",
    "\n",
    "{nutrient}: Weight of {nutrient} in the average product, in grams. Possible nutrients are: carbs, sugar, fat, saturated fat, protein, fibre. The count of carbs include sugars and the count of fats includes saturated fats\n",
    "\n",
    "energy_{nutrient}: Amount of energy from {nutrient} in the average product, in kcals\n",
    "\n",
    "h_nutrients_weight: Diversity (entropy) of nutrients weight\n",
    "\n",
    "h_nutrients_weight_norm: Diversity (entropy) of nutrients weight, normalized in [0,1]\n",
    "\n",
    "h_nutrients_calories: Diversity (entropy) of energy from nutrients\n",
    "\n",
    "h_nutrients_calories_norm. Diversity (entropy) of energy from nutrients, normalized in [0,1]\n",
    "\n",
    "f_{category}: Fraction of products of type {category} purchased. Possible categories are: beer, dairy, eggs, fats & oils, fish, fruit & veg, grains, red meat, poultry, readymade, sauces, soft drinks, spirits, sweets, tea & coffee, water, and wine.\n",
    "\n",
    "f_{category}_weight: Fraction of total product weight given by products of type {category}\n",
    "\n",
    "h_category: Diversity (entropy) of food product categories\n",
    "\n",
    "h_category_norm: Diversity (entropy) of food product categories, normalized in [0,1]\n",
    "\n",
    "h_category_weight: Diversity (entropy) of weight of food product categories\n",
    "\n",
    "h_category_weight_norm: Diversity (entropy) of weight of food product categories, normalized in [0,1].\n",
    "\n",
    "representativeness_norm: The ratio between the number of unique customers in the area and the number of residents as measured by the census; values are min-max normalized in [0,1] across all areas\n",
    "\n",
    "transaction_days: Number of unique dates in which at least one purchase has been made by one of the residents in the area.\n",
    "\n",
    "num_transactions: Total number of products purchased by Clubcard owners who are resident in the area.\n",
    "\n",
    "man_day: Cumulative number of man-days of purchase (number of distinct days a customer has purchased something, summed all individual customers)\n",
    "\n",
    "population: Total population of residents in the area according to the 2015 census.\n",
    "\n",
    "male: Total male population in the area.\n",
    "\n",
    "female: Total female population in the area.\n",
    "\n",
    "age_0_17: Total number of residents between 0 and 17 years old\n",
    "\n",
    "age_18_64: Total number of residents between 18 and 64 years old.\n",
    "\n",
    "age_65+: Total number of residents aged 65 years or more.\n",
    "\n",
    "avg_age: Average age of residents according to the 2015 census\n",
    "\n",
    "area_sq_km: Surface of the area (km^2)\n",
    "\n",
    "people_per_sq_km: Population density per km^2"
   ],
   "metadata": {
    "collapsed": false
   },
   "id": "3bb4e450dd14a438"
  },
  {
   "cell_type": "markdown",
   "source": [
    "### Task 2: Visualise the Dataset"
   ],
   "metadata": {
    "collapsed": false
   },
   "id": "9dea7949b2cd387b"
  },
  {
   "cell_type": "code",
   "execution_count": null,
   "outputs": [],
   "source": [
    "\n"
   ],
   "metadata": {
    "collapsed": false,
    "ExecuteTime": {
     "start_time": "2024-02-14T11:05:53.215308Z"
    }
   },
   "id": "608b50f6b1e94b87"
  },
  {
   "cell_type": "markdown",
   "source": [
    "### Task 3: Combing Datasets"
   ],
   "metadata": {
    "collapsed": false
   },
   "id": "f9d95a8b7d3cd14"
  },
  {
   "cell_type": "markdown",
   "source": [
    "### Task 4: Presentation"
   ],
   "metadata": {
    "collapsed": false
   },
   "id": "46498033324ceee6"
  },
  {
   "cell_type": "markdown",
   "source": [
    "### Task 5: Executive Summary"
   ],
   "metadata": {
    "collapsed": false
   },
   "id": "10c1f5bc9f96935b"
  }
 ],
 "metadata": {
  "kernelspec": {
   "display_name": "Python 3",
   "language": "python",
   "name": "python3"
  },
  "language_info": {
   "codemirror_mode": {
    "name": "ipython",
    "version": 2
   },
   "file_extension": ".py",
   "mimetype": "text/x-python",
   "name": "python",
   "nbconvert_exporter": "python",
   "pygments_lexer": "ipython2",
   "version": "2.7.6"
  }
 },
 "nbformat": 4,
 "nbformat_minor": 5
}
