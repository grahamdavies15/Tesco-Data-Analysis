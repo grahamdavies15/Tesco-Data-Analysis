{
 "cells": [
  {
   "cell_type": "markdown",
   "source": [
    "# Applied Data Science\n",
    "## Tesco Dataset Analysis - Graham Davies\n",
    "\n",
    "\n"
   ],
   "metadata": {
    "collapsed": false
   },
   "id": "4fc1083050e7f59a"
  },
  {
   "cell_type": "markdown",
   "source": [
    "### Task 1: Describe the Dataset\n",
    "Import"
   ],
   "metadata": {
    "collapsed": false
   },
   "id": "9f51c035ea4ad62e"
  },
  {
   "cell_type": "code",
   "execution_count": 28,
   "outputs": [],
   "source": [
    "import pandas as pd\n",
    "import os\n",
    "\n",
    "# Need to import all csvs and include the name \n",
    "\n",
    "csv_files = [file for file in os.listdir('csvs')]\n",
    "\n",
    "dfs = []\n",
    "\n",
    "for csv_file in csv_files:\n",
    "    # Read the CSV file into a DataFrame\n",
    "    df = pd.read_csv(os.path.join('csvs/',csv_file))\n",
    "    \n",
    "    # Extract the month and area\n",
    "    month = csv_file.split('_')[0]  \n",
    "    area = csv_file.split('_')[1]\n",
    "    \n",
    "    # Add a new column with the month\n",
    "    df['Month'] = month\n",
    "    df['Area'] = area\n",
    "    \n",
    "    # Append the DataFrame to the list\n",
    "    dfs.append(df)\n",
    "\n",
    "print(df.head)"
   ],
   "metadata": {
    "collapsed": false,
    "ExecuteTime": {
     "end_time": "2024-02-20T11:49:37.378682Z",
     "start_time": "2024-02-20T11:49:36.366827Z"
    }
   },
   "id": "810e8f63a5e563e2"
  },
  {
   "cell_type": "code",
   "execution_count": 29,
   "outputs": [
    {
     "name": "stdout",
     "output_type": "stream",
     "text": [
      "203\n"
     ]
    }
   ],
   "source": [],
   "metadata": {
    "collapsed": false,
    "ExecuteTime": {
     "end_time": "2024-02-20T11:49:40.434349Z",
     "start_time": "2024-02-20T11:49:40.425095Z"
    }
   },
   "id": "33652757483cc5f4"
  },
  {
   "cell_type": "markdown",
   "source": [
    "### Task 2: Visualise the Dataset"
   ],
   "metadata": {
    "collapsed": false
   },
   "id": "9dea7949b2cd387b"
  },
  {
   "cell_type": "code",
   "execution_count": null,
   "outputs": [],
   "source": [
    "\n"
   ],
   "metadata": {
    "collapsed": false,
    "ExecuteTime": {
     "start_time": "2024-02-14T11:05:53.215308Z"
    }
   },
   "id": "608b50f6b1e94b87"
  },
  {
   "cell_type": "markdown",
   "source": [
    "### Task 3: Combing Datasets"
   ],
   "metadata": {
    "collapsed": false
   },
   "id": "f9d95a8b7d3cd14"
  },
  {
   "cell_type": "markdown",
   "source": [
    "### Task 4: Presentation"
   ],
   "metadata": {
    "collapsed": false
   },
   "id": "46498033324ceee6"
  },
  {
   "cell_type": "markdown",
   "source": [
    "### Task 5: Executive Summary"
   ],
   "metadata": {
    "collapsed": false
   },
   "id": "10c1f5bc9f96935b"
  }
 ],
 "metadata": {
  "kernelspec": {
   "display_name": "Python 3",
   "language": "python",
   "name": "python3"
  },
  "language_info": {
   "codemirror_mode": {
    "name": "ipython",
    "version": 2
   },
   "file_extension": ".py",
   "mimetype": "text/x-python",
   "name": "python",
   "nbconvert_exporter": "python",
   "pygments_lexer": "ipython2",
   "version": "2.7.6"
  }
 },
 "nbformat": 4,
 "nbformat_minor": 5
}
